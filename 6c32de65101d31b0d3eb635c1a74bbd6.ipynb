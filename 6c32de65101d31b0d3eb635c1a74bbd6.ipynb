{
  "cells": [
    {
      "cell_type": "markdown",
      "metadata": {
        "id": "view-in-github",
        "colab_type": "text"
      },
      "source": [
        "<a href=\"https://colab.research.google.com/github/Fernandofinyellow/BioGPT/blob/main/6c32de65101d31b0d3eb635c1a74bbd6.ipynb\" target=\"_parent\"><img src=\"https://colab.research.google.com/assets/colab-badge.svg\" alt=\"Open In Colab\"/></a>"
      ]
    },
    {
      "cell_type": "markdown",
      "metadata": {
        "id": "l0STq9JNbH3L"
      },
      "source": [
        "# Introduction to Embedding MindStudio AI Applications with UUID\n",
        "\n",
        "This Jupyter Notebook provides a comprehensive guide on how to embed MindStudio AI applications into third-party websites effectively. The focus is on enabling the embed functionality, configuring embed settings, and ensuring unique user identification through the generation of a Universally Unique Identifier (UUID).\n",
        "\n",
        "Embedding your AI application extends its functionality and accessibility, allowing users to interact with your AI solutions directly from their preferred platforms. To enhance user experience and maintain session continuity, we introduce a method for generating a unique `YOUR_USER_ID` using UUID. This approach ensures that user identification is both consistent across sessions and unique to each user, without relying on sensitive information such as IP addresses.\n",
        "\n",
        "For a hands-on experience, you can [Open this notebook in Google Colab](https://colab.research.google.com/gist/ruvnet/6c32de65101d31b0d3eb635c1a74bbd6).\n",
        "\n",
        "Created by [@rUv](https://gist.github.com/ruvnet/), cause I could."
      ]
    },
    {
      "cell_type": "code",
      "execution_count": null,
      "metadata": {
        "id": "YtEXUZL8bH3P"
      },
      "outputs": [],
      "source": [
        "import uuid"
      ]
    },
    {
      "cell_type": "code",
      "execution_count": null,
      "metadata": {
        "id": "kjfUg3UdbH3R"
      },
      "outputs": [],
      "source": [
        "# Generate a UUID\n",
        "user_uuid = uuid.uuid4()\n",
        "print(f\"Generated UUID: {user_uuid}\")"
      ]
    },
    {
      "cell_type": "markdown",
      "metadata": {
        "id": "iXCGcRodbH3T"
      },
      "source": [
        "## Embedding the UUID in JavaScript\n",
        "\n",
        "The generated UUID can be embedded into a JavaScript variable for use in web applications or interactive environments.\n",
        "\n",
        "Make sure to replace `AppId` and `userId` with your values.\n",
        "\n",
        "Below is an example of how to use the generated UUID in a JavaScript snippet for embedding an iframe:"
      ]
    },
    {
      "cell_type": "code",
      "execution_count": null,
      "metadata": {
        "colab": {
          "base_uri": "https://localhost:8080/",
          "height": 622
        },
        "id": "p0OEsO9QbH3T",
        "outputId": "5b966789-5339-4c86-fae4-ec4fbb492491"
      },
      "outputs": [
        {
          "output_type": "execute_result",
          "data": {
            "text/plain": [
              "<IPython.core.display.HTML object>"
            ],
            "text/html": [
              "\n",
              "<script type=\"text/javascript\">\n",
              "  window.MindStudioSettings = {\n",
              "    publicToken: \"pkcfb7d97b3cbd38c6907684b17b8e8d64\",\n",
              "    appId: \"e2f7adec-1d01-48b6-8b3d-197a0b583d0e\",\n",
              "    userId: \"2e63e77f-a45a-4072-8e86-753713852b56\",\n",
              "    targetId: \"mindstudio-frame\",\n",
              "    debugging: true,\n",
              "    options: {\n",
              "      autoFocus: false,\n",
              "      launchVariables: {\n",
              "        myVariable: \"My Value\"\n",
              "      }\n",
              "    }\n",
              "  };\n",
              "</script>\n",
              "<script src=\"https://api.youai.ai/v1/embed.js\"></script>\n",
              "<iframe id=\"mindstudio-frame\" referrerpolicy=\"origin\" style=\"width:900px;height:600px;border:1px solid rgba(0,0,0,0.1);border-radius:8px;outline:none;\" title=\"AI Embed\" frameborder=\"0\"></iframe>\n"
            ]
          },
          "metadata": {},
          "execution_count": 22
        }
      ],
      "source": [
        "from IPython.display import HTML\n",
        "\n",
        "# Embedding the UUID in the HTML/JavaScript\n",
        "html_script = f\"\"\"\n",
        "<script type=\\\"text/javascript\\\">\n",
        "  window.MindStudioSettings = {{\n",
        "    publicToken: \\\"pkcfb7d97b3cbd38c6907684b17b8e8d64\\\",\n",
        "    appId: \\\"e2f7adec-1d01-48b6-8b3d-197a0b583d0e\\\",\n",
        "    userId: \\\"{user_uuid}\\\",\n",
        "    targetId: \\\"mindstudio-frame\\\",\n",
        "    debugging: true,\n",
        "    options: {{\n",
        "      autoFocus: false,\n",
        "      launchVariables: {{\n",
        "        myVariable: \\\"My Value\\\"\n",
        "      }}\n",
        "    }}\n",
        "  }};\n",
        "</script>\n",
        "<script src=\\\"https://api.youai.ai/v1/embed.js\\\"></script>\n",
        "<iframe id=\\\"mindstudio-frame\\\" referrerpolicy=\\\"origin\\\" style=\\\"width:900px;height:600px;border:1px solid rgba(0,0,0,0.1);border-radius:8px;outline:none;\\\" title=\\\"AI Embed\\\" frameborder=\\\"0\\\"></iframe>\n",
        "\"\"\"\n",
        "\n",
        "# Display the HTML content\n",
        "HTML(html_script)"
      ]
    }
  ],
  "metadata": {
    "kernelspec": {
      "display_name": "Python 3",
      "language": "python",
      "name": "python3"
    },
    "language_info": {
      "codemirror_mode": {
        "name": "ipython",
        "version": 3
      },
      "file_extension": ".py",
      "mimetype": "text/x-python",
      "name": "python",
      "nbconvert_exporter": "python",
      "pygments_lexer": "ipython3",
      "version": "3.8.5"
    },
    "colab": {
      "provenance": [],
      "include_colab_link": true
    }
  },
  "nbformat": 4,
  "nbformat_minor": 0
}